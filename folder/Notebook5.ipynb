{
  "nbformat": 4,
  "nbformat_minor": 0,
  "metadata": {
    "kernelspec": {
      "display_name": "Python 3",
      "language": "python",
      "name": "python3"
    },
    "language_info": {
      "codemirror_mode": {
        "name": "ipython",
        "version": 3
      },
      "file_extension": ".py",
      "mimetype": "text/x-python",
      "name": "python",
      "nbconvert_exporter": "python",
      "pygments_lexer": "ipython3",
      "version": "3.7.3"
    },
    "colab": {
      "provenance": []
    }
  },
  "cells": [
    {
      "cell_type": "markdown",
      "metadata": {
        "id": "Gp2WddtV9IwG"
      },
      "source": [
        "# Programa Ingenias+ Data Science"
      ]
    },
    {
      "cell_type": "markdown",
      "source": [
        "**Notebook 5 trabajado por Loana Ibañez (grupo 7).**"
      ],
      "metadata": {
        "id": "GrN0QNTWF3jh"
      }
    },
    {
      "cell_type": "markdown",
      "metadata": {
        "id": "H4M1yVbf9IwH"
      },
      "source": [
        "Como dijimos en clases anteriores, Python tiene implementadas muchas librerias para poder trabajar con datos. En la clase de hoy trabajaremos con una de ellas: `Numpy`."
      ]
    },
    {
      "cell_type": "markdown",
      "metadata": {
        "id": "GdTT8WeL9IwI"
      },
      "source": [
        "Antes de comenzar, vamos a hablar un poco de esta libreria o modulo.\n",
        "\n",
        "**Numpy** es una librería optimizada para realizar cálculos numéricos con vectores y matrices. A diferencia de otros lenguajes de programación, Python no posee en su estructura central la figura de matrices. Eso quiere decir que para poder trabajar con esta estructura de datos deberiamos trabajar con listas de listas. NumPy introduce el concepto de arrays o matrices."
      ]
    },
    {
      "cell_type": "markdown",
      "metadata": {
        "id": "qWkq3EHK9IwK"
      },
      "source": [
        "Al ser de código abierto, `numpy` posee una documentación muy amplia que es **SIEMPRE RECOMENDABLE** consultar."
      ]
    },
    {
      "cell_type": "markdown",
      "metadata": {
        "id": "nxe3KLUO9IwL"
      },
      "source": [
        "- [Documentacion NumPy](https://devdocs.io/numpy/)"
      ]
    },
    {
      "cell_type": "markdown",
      "metadata": {
        "id": "l1Ay3nSs9IwN"
      },
      "source": [
        "## Clase 4: Introduccion a NumPy"
      ]
    },
    {
      "cell_type": "markdown",
      "metadata": {
        "id": "X03mviQS9IyL"
      },
      "source": [
        "# Ejercicios\n",
        "\n",
        "1. Crear un arreglo de ceros de longitud 12\n",
        "2. Crear un arreglo de longitud 10 con ceros en todas sus posiciones y un 10 en la posición número 5\n",
        "3. Crear un arreglo que tenga los números del 10 al 49\n",
        "4. Crear una arreglo 2d de shape (3, 3) que tenga los números del 0 al 8\n",
        "5. Crear un arreglo de números aleatorios de longitud 100 y obtener su media y varianza\n",
        "6. Calcular la media de un arreglo usando np.sum\n",
        "7. Calcular la varianza de un arreglo usando np.sum y np.mean\n",
        "8. Crear un array de números aleatorios usando np.random.randn.\n"
      ]
    },
    {
      "cell_type": "markdown",
      "source": [
        "**Preparación del entorno de trabajo**"
      ],
      "metadata": {
        "id": "cYYW7PaN0zJU"
      }
    },
    {
      "cell_type": "code",
      "source": [
        "!pip install NumPy"
      ],
      "metadata": {
        "id": "0c7Fkek1gZvs",
        "outputId": "6ba2f809-7b5e-413f-eb29-41ca578cc18c",
        "colab": {
          "base_uri": "https://localhost:8080/"
        }
      },
      "execution_count": 5,
      "outputs": [
        {
          "output_type": "stream",
          "name": "stdout",
          "text": [
            "Requirement already satisfied: NumPy in /usr/local/lib/python3.10/dist-packages (1.22.4)\n"
          ]
        }
      ]
    },
    {
      "cell_type": "code",
      "metadata": {
        "id": "G0NMKT609IyM"
      },
      "source": [
        "import numpy as np"
      ],
      "execution_count": 7,
      "outputs": []
    },
    {
      "cell_type": "markdown",
      "source": [
        "**1. Crear un arreglo de ceros de longitud 12**"
      ],
      "metadata": {
        "id": "fZ707M1L06-J"
      }
    },
    {
      "cell_type": "code",
      "source": [
        "np.zeros((12,), dtype=int)"
      ],
      "metadata": {
        "colab": {
          "base_uri": "https://localhost:8080/"
        },
        "id": "IMWHGIG21Ddi",
        "outputId": "38e6bc8b-b791-4d9b-dcc4-26d716f6fc75"
      },
      "execution_count": 8,
      "outputs": [
        {
          "output_type": "execute_result",
          "data": {
            "text/plain": [
              "array([0, 0, 0, 0, 0, 0, 0, 0, 0, 0, 0, 0])"
            ]
          },
          "metadata": {},
          "execution_count": 8
        }
      ]
    },
    {
      "cell_type": "markdown",
      "source": [
        "**2. Crear un arreglo de longitud 10 con ceros en todas sus posiciones y un 10 en la posición número 5**\n"
      ],
      "metadata": {
        "id": "FhxuIKjC0vs-"
      }
    },
    {
      "cell_type": "code",
      "source": [
        "mi_array2 = np.zeros((10,), dtype=int)\n",
        "mi_array2[4]= int(10)\n",
        "print(mi_array2)"
      ],
      "metadata": {
        "colab": {
          "base_uri": "https://localhost:8080/"
        },
        "id": "cuzAtLVd1FsV",
        "outputId": "a1aa3ffb-94dd-4d0a-a2a4-aa27316f5bfe"
      },
      "execution_count": 18,
      "outputs": [
        {
          "output_type": "stream",
          "name": "stdout",
          "text": [
            "[ 0  0  0  0 10  0  0  0  0  0]\n"
          ]
        }
      ]
    },
    {
      "cell_type": "markdown",
      "source": [
        "**3. Crear un arreglo que tenga los números del 10 al 49**"
      ],
      "metadata": {
        "id": "LnpGw16d1GGw"
      }
    },
    {
      "cell_type": "code",
      "source": [
        "mi_array3 = np.arange(10, 50, 1, dtype=int)\n",
        "print(mi_array3)"
      ],
      "metadata": {
        "colab": {
          "base_uri": "https://localhost:8080/"
        },
        "id": "kTGpnRQn1KXx",
        "outputId": "9cb8825b-e829-4ac0-adee-d25c1f78b373"
      },
      "execution_count": 23,
      "outputs": [
        {
          "output_type": "stream",
          "name": "stdout",
          "text": [
            "[10 11 12 13 14 15 16 17 18 19 20 21 22 23 24 25 26 27 28 29 30 31 32 33\n",
            " 34 35 36 37 38 39 40 41 42 43 44 45 46 47 48 49]\n"
          ]
        }
      ]
    },
    {
      "cell_type": "markdown",
      "source": [
        "**4. Crear una arreglo 2d de shape (3, 3) que tenga los números del 0 al 8**"
      ],
      "metadata": {
        "id": "nTxITNEP1Kz_"
      }
    },
    {
      "cell_type": "code",
      "source": [
        "mi_array4 = np.arange(9).reshape(3, 3)\n",
        "print(mi_array4)"
      ],
      "metadata": {
        "colab": {
          "base_uri": "https://localhost:8080/"
        },
        "id": "SegPFYOS1OGs",
        "outputId": "b3c798ca-9e13-4735-df0d-afe7f117bbf5"
      },
      "execution_count": 30,
      "outputs": [
        {
          "output_type": "stream",
          "name": "stdout",
          "text": [
            "[[0 1 2]\n",
            " [3 4 5]\n",
            " [6 7 8]]\n"
          ]
        }
      ]
    },
    {
      "cell_type": "markdown",
      "source": [
        "**5. Crear un arreglo de números aleatorios de longitud 100 y obtener su media y varianza**"
      ],
      "metadata": {
        "id": "5Ie6AO_u1Oiu"
      }
    },
    {
      "cell_type": "code",
      "source": [
        "mi_array5 = np.random.randn(100)\n",
        "print(np.mean(mi_array5))\n",
        "print(np.var(mi_array5))\n"
      ],
      "metadata": {
        "colab": {
          "base_uri": "https://localhost:8080/"
        },
        "id": "a33S0LqD1Rzl",
        "outputId": "22c86105-71b1-4c08-c1a9-9e5a917f32c2"
      },
      "execution_count": 40,
      "outputs": [
        {
          "output_type": "stream",
          "name": "stdout",
          "text": [
            "-0.04676990230744165\n",
            "1.1232803202054589\n"
          ]
        }
      ]
    },
    {
      "cell_type": "markdown",
      "source": [
        "**6. Calcular la media de un arreglo usando np.sum**"
      ],
      "metadata": {
        "id": "fGxdCW191SJA"
      }
    },
    {
      "cell_type": "code",
      "source": [
        "print(mi_array3)\n",
        "print(np.sum(mi_array3)/len(mi_array3)) # esto es igual a print(np.sum(mi_array3))"
      ],
      "metadata": {
        "colab": {
          "base_uri": "https://localhost:8080/"
        },
        "id": "7DjU2IiI1VMM",
        "outputId": "a7d8e8b7-5dea-4e1a-e47b-3f99bf3bd869"
      },
      "execution_count": 37,
      "outputs": [
        {
          "output_type": "stream",
          "name": "stdout",
          "text": [
            "[10 11 12 13 14 15 16 17 18 19 20 21 22 23 24 25 26 27 28 29 30 31 32 33\n",
            " 34 35 36 37 38 39 40 41 42 43 44 45 46 47 48 49]\n",
            "29.5\n"
          ]
        }
      ]
    },
    {
      "cell_type": "markdown",
      "source": [
        "**7. Calcular la varianza de un arreglo usando np.sum y np.mean**"
      ],
      "metadata": {
        "id": "-9RHcEbV1WF2"
      }
    },
    {
      "cell_type": "code",
      "source": [
        "mi_array7 = (1,2,3,4,5,6,7,8,9,10)\n",
        "varianza = ((np.sum((mi_array7))-np.mean(mi_array7))**2)/len(mi_array7)\n",
        "print(varianza)"
      ],
      "metadata": {
        "colab": {
          "base_uri": "https://localhost:8080/"
        },
        "id": "AyWjEItWBLH4",
        "outputId": "7233dad5-18cc-4e38-e793-a8f8f536e7b9"
      },
      "execution_count": 36,
      "outputs": [
        {
          "output_type": "stream",
          "name": "stdout",
          "text": [
            "245.025\n"
          ]
        }
      ]
    },
    {
      "cell_type": "markdown",
      "source": [
        "**8. Crear un array de números aleatorios usando np.random.randn.**"
      ],
      "metadata": {
        "id": "ApESSV5h1bPe"
      }
    },
    {
      "cell_type": "code",
      "source": [
        "mi_array8 = np.random.randn(10)\n",
        "print(mi_array8)"
      ],
      "metadata": {
        "colab": {
          "base_uri": "https://localhost:8080/"
        },
        "id": "VyOUzk_N1a4d",
        "outputId": "d9759e41-d132-47be-a3a3-c1280d59d772"
      },
      "execution_count": 29,
      "outputs": [
        {
          "output_type": "stream",
          "name": "stdout",
          "text": [
            "[-0.39603578  1.18385345  1.02177731 -0.20709697 -0.62800081 -1.47144396\n",
            " -1.99826669  0.47567959  1.02578646 -0.57968312]\n"
          ]
        }
      ]
    }
  ]
}